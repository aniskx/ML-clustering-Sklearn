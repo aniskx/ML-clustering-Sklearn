{
 "cells": [
  {
   "cell_type": "markdown",
   "metadata": {},
   "source": [
    "![](algos.PNG)"
   ]
  },
  {
   "cell_type": "markdown",
   "metadata": {},
   "source": [
    "##### Centroid-based :\n",
    "###### cluster represented by a central reference vector which may not be part of the original data eg. KMeans \n",
    "##### Hierarchical : \n",
    "###### connectivity-based clustering based on the idea points connected to points close by rather than further away eg. agglomerative and Birch clustering\n",
    "##### Distribution-based : \n",
    "###### built on statistical distribution models-objects of a cluster are the ones which may belong most likely to the same distribution eg. Gaussian Mixture Models\n",
    "##### Density-based\n",
    "###### create clusters from areas which have a higher density of Data points "
   ]
  },
  {
   "cell_type": "markdown",
   "metadata": {},
   "source": [
    "###### download the Data from :https://www.kaggle.com/uciml/iris?select=Iris.csv"
   ]
  },
  {
   "cell_type": "code",
   "execution_count": 1,
   "metadata": {},
   "outputs": [],
   "source": [
    "#importing needed libraries\n",
    "import pandas as pd \n",
    "import numpy as np \n",
    "import matplotlib.pyplot as plt "
   ]
  },
  {
   "cell_type": "code",
   "execution_count": 2,
   "metadata": {},
   "outputs": [],
   "source": [
    "from sklearn import metrics \n",
    "\n",
    "from sklearn.cluster import KMeans\n",
    "from sklearn.cluster import AgglomerativeClustering\n",
    "from sklearn.cluster import DBSCAN\n",
    "from sklearn.cluster import MeanShift\n",
    "from sklearn.cluster import Birch\n",
    "from sklearn.cluster import AffinityPropagation\n",
    "from sklearn.cluster import MiniBatchKMeans\n",
    "\n",
    "import warnings\n",
    "warnings.filterwarnings(\"ignore\")"
   ]
  },
  {
   "cell_type": "code",
   "execution_count": 4,
   "metadata": {},
   "outputs": [
    {
     "data": {
      "text/html": [
       "<div>\n",
       "<style scoped>\n",
       "    .dataframe tbody tr th:only-of-type {\n",
       "        vertical-align: middle;\n",
       "    }\n",
       "\n",
       "    .dataframe tbody tr th {\n",
       "        vertical-align: top;\n",
       "    }\n",
       "\n",
       "    .dataframe thead th {\n",
       "        text-align: right;\n",
       "    }\n",
       "</style>\n",
       "<table border=\"1\" class=\"dataframe\">\n",
       "  <thead>\n",
       "    <tr style=\"text-align: right;\">\n",
       "      <th></th>\n",
       "      <th>sepal-length</th>\n",
       "      <th>sepal-width</th>\n",
       "      <th>petal-length</th>\n",
       "      <th>petal-width</th>\n",
       "      <th>class</th>\n",
       "    </tr>\n",
       "  </thead>\n",
       "  <tbody>\n",
       "    <tr>\n",
       "      <th>1</th>\n",
       "      <td>5.1</td>\n",
       "      <td>3.5</td>\n",
       "      <td>1.4</td>\n",
       "      <td>0.2</td>\n",
       "      <td>Iris-setosa</td>\n",
       "    </tr>\n",
       "    <tr>\n",
       "      <th>2</th>\n",
       "      <td>4.9</td>\n",
       "      <td>3.0</td>\n",
       "      <td>1.4</td>\n",
       "      <td>0.2</td>\n",
       "      <td>Iris-setosa</td>\n",
       "    </tr>\n",
       "    <tr>\n",
       "      <th>3</th>\n",
       "      <td>4.7</td>\n",
       "      <td>3.2</td>\n",
       "      <td>1.3</td>\n",
       "      <td>0.2</td>\n",
       "      <td>Iris-setosa</td>\n",
       "    </tr>\n",
       "    <tr>\n",
       "      <th>4</th>\n",
       "      <td>4.6</td>\n",
       "      <td>3.1</td>\n",
       "      <td>1.5</td>\n",
       "      <td>0.2</td>\n",
       "      <td>Iris-setosa</td>\n",
       "    </tr>\n",
       "    <tr>\n",
       "      <th>5</th>\n",
       "      <td>5.0</td>\n",
       "      <td>3.6</td>\n",
       "      <td>1.4</td>\n",
       "      <td>0.2</td>\n",
       "      <td>Iris-setosa</td>\n",
       "    </tr>\n",
       "  </tbody>\n",
       "</table>\n",
       "</div>"
      ],
      "text/plain": [
       "   sepal-length  sepal-width  petal-length  petal-width        class\n",
       "1           5.1          3.5           1.4          0.2  Iris-setosa\n",
       "2           4.9          3.0           1.4          0.2  Iris-setosa\n",
       "3           4.7          3.2           1.3          0.2  Iris-setosa\n",
       "4           4.6          3.1           1.5          0.2  Iris-setosa\n",
       "5           5.0          3.6           1.4          0.2  Iris-setosa"
      ]
     },
     "execution_count": 4,
     "metadata": {},
     "output_type": "execute_result"
    }
   ],
   "source": [
    "# read dataset\n",
    "iris_data = pd.read_csv('iris.csv',\n",
    "                       skiprows = 1,\n",
    "                       names = ['sepal-length',\n",
    "                               'sepal-width',\n",
    "                               'petal-length',\n",
    "                               'petal-width',\n",
    "                               'class'])\n",
    "iris_data.head()"
   ]
  },
  {
   "cell_type": "code",
   "execution_count": 5,
   "metadata": {},
   "outputs": [
    {
     "data": {
      "text/html": [
       "<div>\n",
       "<style scoped>\n",
       "    .dataframe tbody tr th:only-of-type {\n",
       "        vertical-align: middle;\n",
       "    }\n",
       "\n",
       "    .dataframe tbody tr th {\n",
       "        vertical-align: top;\n",
       "    }\n",
       "\n",
       "    .dataframe thead th {\n",
       "        text-align: right;\n",
       "    }\n",
       "</style>\n",
       "<table border=\"1\" class=\"dataframe\">\n",
       "  <thead>\n",
       "    <tr style=\"text-align: right;\">\n",
       "      <th></th>\n",
       "      <th>sepal-length</th>\n",
       "      <th>sepal-width</th>\n",
       "      <th>petal-length</th>\n",
       "      <th>petal-width</th>\n",
       "      <th>class</th>\n",
       "    </tr>\n",
       "  </thead>\n",
       "  <tbody>\n",
       "    <tr>\n",
       "      <th>0</th>\n",
       "      <td>5.4</td>\n",
       "      <td>3.7</td>\n",
       "      <td>1.5</td>\n",
       "      <td>0.2</td>\n",
       "      <td>Iris-setosa</td>\n",
       "    </tr>\n",
       "    <tr>\n",
       "      <th>1</th>\n",
       "      <td>5.8</td>\n",
       "      <td>2.6</td>\n",
       "      <td>4.0</td>\n",
       "      <td>1.2</td>\n",
       "      <td>Iris-versicolor</td>\n",
       "    </tr>\n",
       "    <tr>\n",
       "      <th>2</th>\n",
       "      <td>6.0</td>\n",
       "      <td>2.9</td>\n",
       "      <td>4.5</td>\n",
       "      <td>1.5</td>\n",
       "      <td>Iris-versicolor</td>\n",
       "    </tr>\n",
       "    <tr>\n",
       "      <th>3</th>\n",
       "      <td>5.2</td>\n",
       "      <td>2.7</td>\n",
       "      <td>3.9</td>\n",
       "      <td>1.4</td>\n",
       "      <td>Iris-versicolor</td>\n",
       "    </tr>\n",
       "    <tr>\n",
       "      <th>4</th>\n",
       "      <td>6.9</td>\n",
       "      <td>3.1</td>\n",
       "      <td>5.1</td>\n",
       "      <td>2.3</td>\n",
       "      <td>Iris-virginica</td>\n",
       "    </tr>\n",
       "  </tbody>\n",
       "</table>\n",
       "</div>"
      ],
      "text/plain": [
       "   sepal-length  sepal-width  petal-length  petal-width            class\n",
       "0           5.4          3.7           1.5          0.2      Iris-setosa\n",
       "1           5.8          2.6           4.0          1.2  Iris-versicolor\n",
       "2           6.0          2.9           4.5          1.5  Iris-versicolor\n",
       "3           5.2          2.7           3.9          1.4  Iris-versicolor\n",
       "4           6.9          3.1           5.1          2.3   Iris-virginica"
      ]
     },
     "execution_count": 5,
     "metadata": {},
     "output_type": "execute_result"
    }
   ],
   "source": [
    "# shufle the dataset \n",
    "iris_data = iris_data.sample(frac=1).reset_index(drop=True)\n",
    "iris_data.head()"
   ]
  },
  {
   "cell_type": "code",
   "execution_count": 6,
   "metadata": {},
   "outputs": [
    {
     "data": {
      "text/html": [
       "<div>\n",
       "<style scoped>\n",
       "    .dataframe tbody tr th:only-of-type {\n",
       "        vertical-align: middle;\n",
       "    }\n",
       "\n",
       "    .dataframe tbody tr th {\n",
       "        vertical-align: top;\n",
       "    }\n",
       "\n",
       "    .dataframe thead th {\n",
       "        text-align: right;\n",
       "    }\n",
       "</style>\n",
       "<table border=\"1\" class=\"dataframe\">\n",
       "  <thead>\n",
       "    <tr style=\"text-align: right;\">\n",
       "      <th></th>\n",
       "      <th>sepal-length</th>\n",
       "      <th>sepal-width</th>\n",
       "      <th>petal-length</th>\n",
       "      <th>petal-width</th>\n",
       "      <th>class</th>\n",
       "    </tr>\n",
       "  </thead>\n",
       "  <tbody>\n",
       "    <tr>\n",
       "      <th>0</th>\n",
       "      <td>5.4</td>\n",
       "      <td>3.7</td>\n",
       "      <td>1.5</td>\n",
       "      <td>0.2</td>\n",
       "      <td>0</td>\n",
       "    </tr>\n",
       "    <tr>\n",
       "      <th>1</th>\n",
       "      <td>5.8</td>\n",
       "      <td>2.6</td>\n",
       "      <td>4.0</td>\n",
       "      <td>1.2</td>\n",
       "      <td>1</td>\n",
       "    </tr>\n",
       "    <tr>\n",
       "      <th>2</th>\n",
       "      <td>6.0</td>\n",
       "      <td>2.9</td>\n",
       "      <td>4.5</td>\n",
       "      <td>1.5</td>\n",
       "      <td>1</td>\n",
       "    </tr>\n",
       "    <tr>\n",
       "      <th>3</th>\n",
       "      <td>5.2</td>\n",
       "      <td>2.7</td>\n",
       "      <td>3.9</td>\n",
       "      <td>1.4</td>\n",
       "      <td>1</td>\n",
       "    </tr>\n",
       "    <tr>\n",
       "      <th>4</th>\n",
       "      <td>6.9</td>\n",
       "      <td>3.1</td>\n",
       "      <td>5.1</td>\n",
       "      <td>2.3</td>\n",
       "      <td>2</td>\n",
       "    </tr>\n",
       "  </tbody>\n",
       "</table>\n",
       "</div>"
      ],
      "text/plain": [
       "   sepal-length  sepal-width  petal-length  petal-width  class\n",
       "0           5.4          3.7           1.5          0.2      0\n",
       "1           5.8          2.6           4.0          1.2      1\n",
       "2           6.0          2.9           4.5          1.5      1\n",
       "3           5.2          2.7           3.9          1.4      1\n",
       "4           6.9          3.1           5.1          2.3      2"
      ]
     },
     "execution_count": 6,
     "metadata": {},
     "output_type": "execute_result"
    }
   ],
   "source": [
    "# Convert Class(target variable) from string to numeric form\n",
    "\n",
    "from sklearn import preprocessing \n",
    "label_encod = preprocessing.LabelEncoder()\n",
    "iris_data['class'] = label_encod.fit_transform(iris_data['class'].astype(str))\n",
    "iris_data.head()"
   ]
  },
  {
   "cell_type": "code",
   "execution_count": 8,
   "metadata": {},
   "outputs": [
    {
     "data": {
      "text/html": [
       "<div>\n",
       "<style scoped>\n",
       "    .dataframe tbody tr th:only-of-type {\n",
       "        vertical-align: middle;\n",
       "    }\n",
       "\n",
       "    .dataframe tbody tr th {\n",
       "        vertical-align: top;\n",
       "    }\n",
       "\n",
       "    .dataframe thead th {\n",
       "        text-align: right;\n",
       "    }\n",
       "</style>\n",
       "<table border=\"1\" class=\"dataframe\">\n",
       "  <thead>\n",
       "    <tr style=\"text-align: right;\">\n",
       "      <th></th>\n",
       "      <th>sepal-length</th>\n",
       "      <th>sepal-width</th>\n",
       "      <th>petal-length</th>\n",
       "      <th>petal-width</th>\n",
       "    </tr>\n",
       "  </thead>\n",
       "  <tbody>\n",
       "    <tr>\n",
       "      <th>0</th>\n",
       "      <td>5.4</td>\n",
       "      <td>3.7</td>\n",
       "      <td>1.5</td>\n",
       "      <td>0.2</td>\n",
       "    </tr>\n",
       "    <tr>\n",
       "      <th>1</th>\n",
       "      <td>5.8</td>\n",
       "      <td>2.6</td>\n",
       "      <td>4.0</td>\n",
       "      <td>1.2</td>\n",
       "    </tr>\n",
       "    <tr>\n",
       "      <th>2</th>\n",
       "      <td>6.0</td>\n",
       "      <td>2.9</td>\n",
       "      <td>4.5</td>\n",
       "      <td>1.5</td>\n",
       "    </tr>\n",
       "    <tr>\n",
       "      <th>3</th>\n",
       "      <td>5.2</td>\n",
       "      <td>2.7</td>\n",
       "      <td>3.9</td>\n",
       "      <td>1.4</td>\n",
       "    </tr>\n",
       "    <tr>\n",
       "      <th>4</th>\n",
       "      <td>6.9</td>\n",
       "      <td>3.1</td>\n",
       "      <td>5.1</td>\n",
       "      <td>2.3</td>\n",
       "    </tr>\n",
       "  </tbody>\n",
       "</table>\n",
       "</div>"
      ],
      "text/plain": [
       "   sepal-length  sepal-width  petal-length  petal-width\n",
       "0           5.4          3.7           1.5          0.2\n",
       "1           5.8          2.6           4.0          1.2\n",
       "2           6.0          2.9           4.5          1.5\n",
       "3           5.2          2.7           3.9          1.4\n",
       "4           6.9          3.1           5.1          2.3"
      ]
     },
     "execution_count": 8,
     "metadata": {},
     "output_type": "execute_result"
    }
   ],
   "source": [
    "# put the features in a dataframe\n",
    "features = iris_data.drop('class', axis = 1 )\n",
    "features.head()"
   ]
  },
  {
   "cell_type": "code",
   "execution_count": 10,
   "metadata": {},
   "outputs": [
    {
     "data": {
      "text/plain": [
       "44    0\n",
       "66    2\n",
       "59    0\n",
       "83    1\n",
       "11    1\n",
       "Name: class, dtype: int32"
      ]
     },
     "execution_count": 10,
     "metadata": {},
     "output_type": "execute_result"
    }
   ],
   "source": [
    "# store the labels in seperate Series object \n",
    "labels = iris_data['class']\n",
    "labels.sample(5)"
   ]
  },
  {
   "cell_type": "code",
   "execution_count": 56,
   "metadata": {},
   "outputs": [],
   "source": [
    "# function which takes  our dataset \n",
    "# and apply a clustering model we sepecify and then score and evalute this model\n",
    "\n",
    "def build_model(clustering_model, data, labels):\n",
    "    model = clustering_model(data)\n",
    "    print('homog\\tcomp\\tv-meas\\tARI\\tAMI')\n",
    "    print(40 *'-')\n",
    "    print('%.3f\\t%.3f\\t%.3f\\t%.3f\\t%.3f'\n",
    "         %(metrics.homogeneity_score(labels, model.labels_),\n",
    "           metrics.completeness_score(labels, model.labels_),\n",
    "           metrics.v_measure_score(labels, model.labels_),\n",
    "           metrics.adjusted_rand_score(labels, model.labels_),\n",
    "           metrics.adjusted_mutual_info_score(labels, model.labels_),\n",
    "           ))"
   ]
  },
  {
   "cell_type": "code",
   "execution_count": 57,
   "metadata": {},
   "outputs": [],
   "source": [
    "# K-means clustering and \n",
    "def k_means(data,n_clusters =3, max_iter=1000):\n",
    "    model = KMeans(n_clusters=n_clusters,max_iter=max_iter).fit(data)\n",
    "    return model "
   ]
  },
  {
   "cell_type": "code",
   "execution_count": 58,
   "metadata": {},
   "outputs": [
    {
     "name": "stdout",
     "output_type": "stream",
     "text": [
      "homog\tcomp\tv-meas\tARI\tAMI\n",
      "----------------------------------------\n",
      "0.751\t0.765\t0.758\t0.730\t0.755\n"
     ]
    }
   ],
   "source": [
    "build_model(k_means, features, labels)"
   ]
  },
  {
   "cell_type": "markdown",
   "metadata": {},
   "source": [
    "### Agglomerative Clustering:\n",
    "***\n",
    "###### -bottom up  hierarchical clustering technique which recursively merges pairs of clusters starting with single point clusters \n",
    "###### -efficent on large datasets with many clusters\n",
    "###### -computationally intensive\n",
    "###### -builds a tree representation for data points and merge points close to one another\n",
    "###### - the default linkage criterion is WARD ; minimizes the variances of clusters being merged "
   ]
  },
  {
   "cell_type": "code",
   "execution_count": 59,
   "metadata": {},
   "outputs": [],
   "source": [
    "# building agglomerative clustering estimator \n",
    "def agglomerative(data, n_clusters = 3):\n",
    "    model = AgglomerativeClustering(n_clusters = n_clusters).fit(data)\n",
    "    return model \n"
   ]
  },
  {
   "cell_type": "code",
   "execution_count": 60,
   "metadata": {},
   "outputs": [
    {
     "name": "stdout",
     "output_type": "stream",
     "text": [
      "homog\tcomp\tv-meas\tARI\tAMI\n",
      "----------------------------------------\n",
      "0.761\t0.780\t0.770\t0.731\t0.767\n"
     ]
    }
   ],
   "source": [
    "build_model(agglomerative, features, labels)"
   ]
  },
  {
   "cell_type": "markdown",
   "metadata": {},
   "source": [
    "### DBSCAN Clustering\n",
    "##### Density-Based Spatial Clustering of Applications with Noise\n",
    "***"
   ]
  },
  {
   "cell_type": "markdown",
   "metadata": {},
   "source": [
    "###### works well on large datasets for moderate number of clusters\n",
    "###### DBSCAN focus on areas where there is a high density of points, resulted clusters can be of any shape and size\n",
    "###### points with few near neighbors are marked as outliers\n",
    "##### Main Parameters to consider for DBSCAN are : \n",
    "###### 1. eps : Minimum distance, points closer than this are neighbors\n",
    "###### 2. min_samples : number of points to form a dense region  "
   ]
  },
  {
   "cell_type": "code",
   "execution_count": 61,
   "metadata": {},
   "outputs": [],
   "source": [
    "def dbscan(data, eps = 0.45, min_samples=4):\n",
    "    model = DBSCAN(eps=eps, min_samples=min_samples).fit(data)\n",
    "    \n",
    "    return model "
   ]
  },
  {
   "cell_type": "code",
   "execution_count": 62,
   "metadata": {},
   "outputs": [
    {
     "name": "stdout",
     "output_type": "stream",
     "text": [
      "homog\tcomp\tv-meas\tARI\tAMI\n",
      "----------------------------------------\n",
      "0.577\t0.609\t0.593\t0.508\t0.584\n"
     ]
    }
   ],
   "source": [
    "build_model(dbscan, features, labels)"
   ]
  },
  {
   "cell_type": "markdown",
   "metadata": {},
   "source": [
    "### Mean-Shift Clustering \n",
    "***"
   ]
  },
  {
   "cell_type": "markdown",
   "metadata": {},
   "source": [
    "###### uses a kernel function  applied to each point \n",
    "###### no need to specify number of clusters \n",
    "###### uses density function to handle even complex non-linear data ( pixels)\n",
    "###### computationally very intensive ( O(N²) N is number of data points ) "
   ]
  },
  {
   "cell_type": "code",
   "execution_count": 63,
   "metadata": {},
   "outputs": [],
   "source": [
    "def mean_shift(data, bandwidth = 0.85):\n",
    "    model = MeanShift(bandwidth=bandwidth).fit(data)\n",
    "    return model"
   ]
  },
  {
   "cell_type": "code",
   "execution_count": 64,
   "metadata": {},
   "outputs": [
    {
     "name": "stdout",
     "output_type": "stream",
     "text": [
      "homog\tcomp\tv-meas\tARI\tAMI\n",
      "----------------------------------------\n",
      "0.760\t0.772\t0.766\t0.744\t0.763\n"
     ]
    }
   ],
   "source": [
    "build_model(mean_shift, features, labels)"
   ]
  },
  {
   "cell_type": "markdown",
   "metadata": {},
   "source": [
    "### BIRCH Clustering\n",
    "##### Balanced Iterative Reducing and Clustering using Hierarchies\n",
    "***\n",
    "###### Consider Birch for Large Dataset with many clusters \n",
    "###### Detects and removes outliers \n",
    "###### incrementally processes incoming data and updates clusters( Online clustering algorithm )\n",
    "###### very effective at handling noise and outliers \n",
    "###### very memory and time efficient "
   ]
  },
  {
   "cell_type": "code",
   "execution_count": 67,
   "metadata": {},
   "outputs": [],
   "source": [
    "def birch(data, n_clusters = 3):\n",
    "    model = Birch(n_clusters=n_clusters).fit(data)\n",
    "    return model"
   ]
  },
  {
   "cell_type": "code",
   "execution_count": 68,
   "metadata": {},
   "outputs": [
    {
     "name": "stdout",
     "output_type": "stream",
     "text": [
      "homog\tcomp\tv-meas\tARI\tAMI\n",
      "----------------------------------------\n",
      "0.778\t0.804\t0.791\t0.732\t0.788\n"
     ]
    }
   ],
   "source": [
    "build_model(birch, features, labels)"
   ]
  },
  {
   "cell_type": "markdown",
   "metadata": {},
   "source": [
    "### Affinity Propagation Clustering \n",
    "***\n",
    "###### consider when you have a small Dataset with MANY clusters\n",
    "###### work well with uneven cluster sizes and manifold shapes\n",
    "###### doesn not need number of classifiers to be specified "
   ]
  },
  {
   "cell_type": "code",
   "execution_count": 70,
   "metadata": {},
   "outputs": [],
   "source": [
    "def afp(data, damping = 0.6, max_iter = 1000):\n",
    "    model = AffinityPropagation(damping=damping, max_iter=max_iter).fit(data)\n",
    "    return model\n",
    "\n",
    "# damping : extent to which the current value is maintained relative to the incoming values"
   ]
  },
  {
   "cell_type": "code",
   "execution_count": 71,
   "metadata": {},
   "outputs": [
    {
     "name": "stdout",
     "output_type": "stream",
     "text": [
      "homog\tcomp\tv-meas\tARI\tAMI\n",
      "----------------------------------------\n",
      "0.851\t0.492\t0.623\t0.437\t0.612\n"
     ]
    }
   ],
   "source": [
    "build_model(afp, features, labels)"
   ]
  },
  {
   "cell_type": "markdown",
   "metadata": {},
   "source": [
    "##### we see homogeneity score very high and completness relatively low  :  that means every cluster does contain members of same class  but all members of same class do not lie in same cluster that is the reasong for low completnes score\n",
    "\n",
    " \n"
   ]
  },
  {
   "cell_type": "markdown",
   "metadata": {},
   "source": [
    "### Mini-bath K- Means clustering\n",
    "***\n",
    "##### K-means clustering on random subsets of data rather than the entire dataset \n",
    "###### used for large datasets and moderate number of clusters\n",
    "###### even cluster sizes and flat surfaces\n",
    "###### Perform K-means on randomly sample subsets ( mini-batches)"
   ]
  },
  {
   "cell_type": "code",
   "execution_count": 76,
   "metadata": {},
   "outputs": [],
   "source": [
    "def mini_batch_kmeans(data,n_clusters =3, max_iter=1000):\n",
    "    model = MiniBatchKMeans(n_clusters=n_clusters,max_iter=max_iter,  batch_size =20).fit(data)\n",
    "    return model "
   ]
  },
  {
   "cell_type": "code",
   "execution_count": 77,
   "metadata": {},
   "outputs": [
    {
     "name": "stdout",
     "output_type": "stream",
     "text": [
      "homog\tcomp\tv-meas\tARI\tAMI\n",
      "----------------------------------------\n",
      "0.736\t0.747\t0.742\t0.716\t0.739\n"
     ]
    }
   ],
   "source": [
    "build_model(mini_batch_kmeans, features, labels)"
   ]
  },
  {
   "cell_type": "markdown",
   "metadata": {},
   "source": [
    "***\n",
    "\n",
    "### Spectral Clustering \n",
    "##### using Precomputed similarity matrix "
   ]
  },
  {
   "cell_type": "markdown",
   "metadata": {},
   "source": [
    "###### -Consider spectral clustering when you have a samll dataset and few clusters\n",
    "###### -Simple to implement, intuitive results, Even cluster size, Fine manifolds\n",
    "###### - relies on distances between points \n",
    "###### -Creates an affinity matrix of input data \n",
    "###### -input can be precomputed similarity matrix \n",
    "###### -Dimensionality reduction is followed by pairwise similarity measurments \n",
    "###### -DBSCAN is a special case of spectral clustering"
   ]
  },
  {
   "cell_type": "code",
   "execution_count": 1,
   "metadata": {},
   "outputs": [],
   "source": [
    "# similarity matrix to feed to the model \n",
    "from sklearn.cluster import SpectralClustering"
   ]
  },
  {
   "cell_type": "code",
   "execution_count": 2,
   "metadata": {},
   "outputs": [],
   "source": [
    "# SS: Self-Similarity, the similarity of a data point with it self  set value to 1000\n",
    "SS = 1000\n",
    "# IS: Intra-Cluster similarity between point with the same cluster \n",
    "IS = 10\n",
    "# LS: Low Similarity, between points in diffrent clusters \n",
    "LS = 0.01"
   ]
  },
  {
   "cell_type": "code",
   "execution_count": 3,
   "metadata": {},
   "outputs": [],
   "source": [
    "# set similarity matrix for 9 data points in the dataset \n",
    "# one row corresponding to every data point in our data set \n",
    "# one column corresponding to every data point in our data set \n",
    "# individual values in this matrix contain information on how similar a data point to another \n",
    "# main diagonal is SS\n",
    "Similarity_matrix = [[SS, IS, IS, LS, LS, LS, LS, LS, LS],\n",
    "                     [IS, SS, IS, LS, LS, LS, LS, LS, LS],\n",
    "                     [IS, IS, SS, LS, LS, LS, LS, LS, LS],\n",
    "                     [LS, LS, LS, SS, IS, IS, LS, LS, LS],\n",
    "                     [LS, LS, LS, IS, SS, IS, LS, LS, LS],\n",
    "                     [LS, LS, LS, IS, IS, SS, LS, LS, LS],\n",
    "                     [LS, LS, LS, LS, LS, LS, SS, IS, IS],\n",
    "                     [LS, LS, LS, LS, LS, LS, IS, SS, IS],\n",
    "                     [LS, LS, LS, LS, LS, LS, IS, IS, SS]]"
   ]
  },
  {
   "cell_type": "code",
   "execution_count": 4,
   "metadata": {},
   "outputs": [],
   "source": [
    "# instantiate spectral similariy object using the matrix above\n",
    "# affinity values are available(similarity matrix as input) so affinity = precomputed \n",
    "spectral_model = SpectralClustering(n_clusters =3, affinity = 'precomputed').fit(Similarity_matrix)\n"
   ]
  },
  {
   "cell_type": "code",
   "execution_count": 5,
   "metadata": {},
   "outputs": [
    {
     "data": {
      "text/plain": [
       "array([2, 2, 2, 0, 0, 0, 1, 1, 1])"
      ]
     },
     "execution_count": 5,
     "metadata": {},
     "output_type": "execute_result"
    }
   ],
   "source": [
    "# labels that spectral clustering has applied to the data points \n",
    "spectral_model.labels_"
   ]
  },
  {
   "cell_type": "markdown",
   "metadata": {},
   "source": [
    "###### we can see that first 3 points are assigned to same cluster with label 2 and 2nd 3 point to cluster labled 0 and last 3 points to cluster labled 1"
   ]
  },
  {
   "cell_type": "code",
   "execution_count": null,
   "metadata": {},
   "outputs": [],
   "source": []
  }
 ],
 "metadata": {
  "kernelspec": {
   "display_name": "Python 3",
   "language": "python",
   "name": "python3"
  },
  "language_info": {
   "codemirror_mode": {
    "name": "ipython",
    "version": 3
   },
   "file_extension": ".py",
   "mimetype": "text/x-python",
   "name": "python",
   "nbconvert_exporter": "python",
   "pygments_lexer": "ipython3",
   "version": "3.8.1"
  }
 },
 "nbformat": 4,
 "nbformat_minor": 4
}
