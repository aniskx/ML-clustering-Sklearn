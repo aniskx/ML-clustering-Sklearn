{
 "cells": [
  {
   "cell_type": "markdown",
   "metadata": {},
   "source": [
    "### Hyperparameters tuning for  K-Means Clustering, DBSCAN clustering, mean-shift clustering  \n",
    "###### -Number of clusters\n",
    "###### -Seeds - initial values\n",
    "###### -Distance measures\n",
    "###### data : https://github.com/thoswanzey/K-Means-Clustering-Python-Implementation/blob/master/data_1024.csv"
   ]
  },
  {
   "cell_type": "code",
   "execution_count": 2,
   "metadata": {},
   "outputs": [],
   "source": [
    "#importing needed libraries\n",
    "import pandas as pd \n",
    "import numpy as np \n",
    "import matplotlib.pyplot as plt \n",
    "\n"
   ]
  },
  {
   "cell_type": "code",
   "execution_count": 3,
   "metadata": {},
   "outputs": [],
   "source": [
    "from sklearn import metrics \n",
    "from sklearn.metrics  import silhouette_score\n",
    "\n",
    "from sklearn.model_selection import ParameterGrid\n",
    "\n",
    "from sklearn.cluster import KMeans\n",
    "from sklearn.cluster import DBSCAN\n",
    "from sklearn.cluster import MeanShift"
   ]
  },
  {
   "cell_type": "markdown",
   "metadata": {},
   "source": [
    "#### load and prepare Data"
   ]
  },
  {
   "cell_type": "code",
   "execution_count": 4,
   "metadata": {},
   "outputs": [
    {
     "data": {
      "text/html": [
       "<div>\n",
       "<style scoped>\n",
       "    .dataframe tbody tr th:only-of-type {\n",
       "        vertical-align: middle;\n",
       "    }\n",
       "\n",
       "    .dataframe tbody tr th {\n",
       "        vertical-align: top;\n",
       "    }\n",
       "\n",
       "    .dataframe thead th {\n",
       "        text-align: right;\n",
       "    }\n",
       "</style>\n",
       "<table border=\"1\" class=\"dataframe\">\n",
       "  <thead>\n",
       "    <tr style=\"text-align: right;\">\n",
       "      <th></th>\n",
       "      <th>Driver_ID</th>\n",
       "      <th>Distance_Feature</th>\n",
       "      <th>Speeding_Feature</th>\n",
       "    </tr>\n",
       "  </thead>\n",
       "  <tbody>\n",
       "    <tr>\n",
       "      <th>0</th>\n",
       "      <td>3423311935</td>\n",
       "      <td>71.24</td>\n",
       "      <td>28.0</td>\n",
       "    </tr>\n",
       "    <tr>\n",
       "      <th>1</th>\n",
       "      <td>3423313212</td>\n",
       "      <td>52.53</td>\n",
       "      <td>25.0</td>\n",
       "    </tr>\n",
       "    <tr>\n",
       "      <th>2</th>\n",
       "      <td>3423313724</td>\n",
       "      <td>64.54</td>\n",
       "      <td>27.0</td>\n",
       "    </tr>\n",
       "    <tr>\n",
       "      <th>3</th>\n",
       "      <td>3423311373</td>\n",
       "      <td>55.69</td>\n",
       "      <td>22.0</td>\n",
       "    </tr>\n",
       "    <tr>\n",
       "      <th>4</th>\n",
       "      <td>3423310999</td>\n",
       "      <td>54.58</td>\n",
       "      <td>25.0</td>\n",
       "    </tr>\n",
       "  </tbody>\n",
       "</table>\n",
       "</div>"
      ],
      "text/plain": [
       "    Driver_ID  Distance_Feature  Speeding_Feature\n",
       "0  3423311935             71.24              28.0\n",
       "1  3423313212             52.53              25.0\n",
       "2  3423313724             64.54              27.0\n",
       "3  3423311373             55.69              22.0\n",
       "4  3423310999             54.58              25.0"
      ]
     },
     "execution_count": 4,
     "metadata": {},
     "output_type": "execute_result"
    }
   ],
   "source": [
    "data = pd.read_csv('data_1024.csv', sep ='\\t')\n",
    "data.head()"
   ]
  },
  {
   "cell_type": "code",
   "execution_count": 5,
   "metadata": {},
   "outputs": [
    {
     "data": {
      "text/plain": [
       "(4000, 3)"
      ]
     },
     "execution_count": 5,
     "metadata": {},
     "output_type": "execute_result"
    }
   ],
   "source": [
    "data.shape"
   ]
  },
  {
   "cell_type": "code",
   "execution_count": 6,
   "metadata": {},
   "outputs": [
    {
     "data": {
      "text/html": [
       "<div>\n",
       "<style scoped>\n",
       "    .dataframe tbody tr th:only-of-type {\n",
       "        vertical-align: middle;\n",
       "    }\n",
       "\n",
       "    .dataframe tbody tr th {\n",
       "        vertical-align: top;\n",
       "    }\n",
       "\n",
       "    .dataframe thead th {\n",
       "        text-align: right;\n",
       "    }\n",
       "</style>\n",
       "<table border=\"1\" class=\"dataframe\">\n",
       "  <thead>\n",
       "    <tr style=\"text-align: right;\">\n",
       "      <th></th>\n",
       "      <th>Driver_ID</th>\n",
       "      <th>Distance_Feature</th>\n",
       "      <th>Speeding_Feature</th>\n",
       "    </tr>\n",
       "  </thead>\n",
       "  <tbody>\n",
       "  </tbody>\n",
       "</table>\n",
       "</div>"
      ],
      "text/plain": [
       "Empty DataFrame\n",
       "Columns: [Driver_ID, Distance_Feature, Speeding_Feature]\n",
       "Index: []"
      ]
     },
     "execution_count": 6,
     "metadata": {},
     "output_type": "execute_result"
    }
   ],
   "source": [
    "# check data for null values  \n",
    "data[data.isnull().any(axis=1)]"
   ]
  },
  {
   "cell_type": "markdown",
   "metadata": {},
   "source": [
    "### K-means Tuning "
   ]
  },
  {
   "cell_type": "code",
   "execution_count": 7,
   "metadata": {},
   "outputs": [],
   "source": [
    "# drop ID climns not needed as a feature\n",
    "features = data.drop('Driver_ID', axis =1)"
   ]
  },
  {
   "cell_type": "code",
   "execution_count": 8,
   "metadata": {},
   "outputs": [],
   "source": [
    "# set the parameters to be tested\n",
    "parameters = {'n_clusters': [2,3,4,5,10,20,30]}\n",
    "parameter_grid = ParameterGrid(parameters)"
   ]
  },
  {
   "cell_type": "code",
   "execution_count": 9,
   "metadata": {},
   "outputs": [
    {
     "data": {
      "text/plain": [
       "[{'n_clusters': 2},\n",
       " {'n_clusters': 3},\n",
       " {'n_clusters': 4},\n",
       " {'n_clusters': 5},\n",
       " {'n_clusters': 10},\n",
       " {'n_clusters': 20},\n",
       " {'n_clusters': 30}]"
      ]
     },
     "execution_count": 9,
     "metadata": {},
     "output_type": "execute_result"
    }
   ],
   "source": [
    "list(parameter_grid)"
   ]
  },
  {
   "cell_type": "code",
   "execution_count": 10,
   "metadata": {},
   "outputs": [],
   "source": [
    "# select the model with the best silhouette_score\n",
    "best_score =-1 \n",
    "model =KMeans()"
   ]
  },
  {
   "cell_type": "code",
   "execution_count": 11,
   "metadata": {},
   "outputs": [
    {
     "name": "stdout",
     "output_type": "stream",
     "text": [
      "Parameter:  {'n_clusters': 2} Score:  0.8490223286225532\n",
      "Parameter:  {'n_clusters': 3} Score:  0.8231396834167266\n",
      "Parameter:  {'n_clusters': 4} Score:  0.5907475009381601\n",
      "Parameter:  {'n_clusters': 5} Score:  0.5126418286009667\n",
      "Parameter:  {'n_clusters': 10} Score:  0.4373046355523129\n",
      "Parameter:  {'n_clusters': 20} Score:  0.3675899531973345\n",
      "Parameter:  {'n_clusters': 30} Score:  0.34784881045197413\n"
     ]
    }
   ],
   "source": [
    "# trainin models with diffrent parameters \n",
    "\n",
    "for g in parameter_grid:\n",
    "    model.set_params(**g)\n",
    "    model.fit(features)\n",
    "    \n",
    "    ss=metrics.silhouette_score(features, model.labels_)\n",
    "    print('Parameter: ', g, 'Score: ', ss)\n",
    "    if ss> best_score:\n",
    "        best_score = ss\n",
    "        best_grid = g"
   ]
  },
  {
   "cell_type": "code",
   "execution_count": 12,
   "metadata": {},
   "outputs": [
    {
     "data": {
      "text/plain": [
       "{'n_clusters': 2}"
      ]
     },
     "execution_count": 12,
     "metadata": {},
     "output_type": "execute_result"
    }
   ],
   "source": [
    "best_grid"
   ]
  },
  {
   "cell_type": "markdown",
   "metadata": {},
   "source": [
    "###### best parameters for number of cluster is two "
   ]
  },
  {
   "cell_type": "code",
   "execution_count": 13,
   "metadata": {},
   "outputs": [
    {
     "data": {
      "image/png": "[encoded data removed]",
      "text/plain": [
       "<Figure size 864x576 with 1 Axes>"
      ]
     },
     "metadata": {
      "needs_background": "light"
     },
     "output_type": "display_data"
    }
   ],
   "source": [
    "# plot a scatter plot for speeding and distance feature for all 4000 points \n",
    "fig, ax = plt.subplots(figsize =(12,8))\n",
    "\n",
    "plt.scatter(features['Distance_Feature'],\n",
    "            features['Speeding_Feature'], s=250 )\n",
    "\n",
    "plt.xlabel('Distance_Feature')\n",
    "plt.ylabel('Speeding_Feature')\n",
    "\n",
    "plt.show()"
   ]
  },
  {
   "cell_type": "markdown",
   "metadata": {},
   "source": [
    "##### notice on the on the plot 2 classes easily identified "
   ]
  },
  {
   "cell_type": "markdown",
   "metadata": {},
   "source": [
    "### DBSCAN tuning "
   ]
  },
  {
   "cell_type": "code",
   "execution_count": 14,
   "metadata": {},
   "outputs": [
    {
     "data": {
      "text/plain": [
       "[{'eps': 0.9, 'min_samples': 5},\n",
       " {'eps': 0.9, 'min_samples': 7},\n",
       " {'eps': 0.9, 'min_samples': 10},\n",
       " {'eps': 0.9, 'min_samples': 12},\n",
       " {'eps': 1.0, 'min_samples': 5},\n",
       " {'eps': 1.0, 'min_samples': 7},\n",
       " {'eps': 1.0, 'min_samples': 10},\n",
       " {'eps': 1.0, 'min_samples': 12},\n",
       " {'eps': 5.0, 'min_samples': 5},\n",
       " {'eps': 5.0, 'min_samples': 7},\n",
       " {'eps': 5.0, 'min_samples': 10},\n",
       " {'eps': 5.0, 'min_samples': 12},\n",
       " {'eps': 10.0, 'min_samples': 5},\n",
       " {'eps': 10.0, 'min_samples': 7},\n",
       " {'eps': 10.0, 'min_samples': 10},\n",
       " {'eps': 10.0, 'min_samples': 12},\n",
       " {'eps': 12.0, 'min_samples': 5},\n",
       " {'eps': 12.0, 'min_samples': 7},\n",
       " {'eps': 12.0, 'min_samples': 10},\n",
       " {'eps': 12.0, 'min_samples': 12},\n",
       " {'eps': 14.0, 'min_samples': 5},\n",
       " {'eps': 14.0, 'min_samples': 7},\n",
       " {'eps': 14.0, 'min_samples': 10},\n",
       " {'eps': 14.0, 'min_samples': 12},\n",
       " {'eps': 20.0, 'min_samples': 5},\n",
       " {'eps': 20.0, 'min_samples': 7},\n",
       " {'eps': 20.0, 'min_samples': 10},\n",
       " {'eps': 20.0, 'min_samples': 12}]"
      ]
     },
     "execution_count": 14,
     "metadata": {},
     "output_type": "execute_result"
    }
   ],
   "source": [
    "# eps : the minimum distance for points to be considred neighbors\n",
    "# min_samples : minimum points required to from a dense region \n",
    "# assign a range of values for eps and mis_samples\n",
    "parameters = {'eps' :  [0.9,1.0,5.0,10.0,12.0,14.0,20.0],\n",
    "              'min_samples' :[5, 7, 10, 12]}\n",
    "\n",
    "# instantiate a parameterGrid with the hyperparameters above and\n",
    "# trains a model for every combination for hyperparameters values \n",
    "parameter_grid = ParameterGrid(parameters)\n",
    "list(parameter_grid)"
   ]
  },
  {
   "cell_type": "code",
   "execution_count": 15,
   "metadata": {},
   "outputs": [],
   "source": [
    "# use silhoutte scoring to evaluate the model \n",
    "model =DBSCAN()\n",
    "best_score =-1 "
   ]
  },
  {
   "cell_type": "code",
   "execution_count": 16,
   "metadata": {},
   "outputs": [
    {
     "name": "stdout",
     "output_type": "stream",
     "text": [
      "Parameter:  {'eps': 0.9, 'min_samples': 5} Score:  -0.6057173612292268\n",
      "Parameter:  {'eps': 0.9, 'min_samples': 7} Score:  -0.4265046999507063\n",
      "Parameter:  {'eps': 0.9, 'min_samples': 10} Score:  -0.39254168253371013\n",
      "Parameter:  {'eps': 0.9, 'min_samples': 12} Score:  -0.4286838741223884\n",
      "Parameter:  {'eps': 1.0, 'min_samples': 5} Score:  -0.6155746493060738\n",
      "Parameter:  {'eps': 1.0, 'min_samples': 7} Score:  -0.41637001640330673\n",
      "Parameter:  {'eps': 1.0, 'min_samples': 10} Score:  -0.3837814631696031\n",
      "Parameter:  {'eps': 1.0, 'min_samples': 12} Score:  -0.38648235283744914\n",
      "Parameter:  {'eps': 5.0, 'min_samples': 5} Score:  0.31011275260225\n",
      "Parameter:  {'eps': 5.0, 'min_samples': 7} Score:  0.7820011223700856\n",
      "Parameter:  {'eps': 5.0, 'min_samples': 10} Score:  0.7974222681120255\n",
      "Parameter:  {'eps': 5.0, 'min_samples': 12} Score:  0.7914367881923341\n",
      "Parameter:  {'eps': 10.0, 'min_samples': 5} Score:  0.7598056658175874\n",
      "Parameter:  {'eps': 10.0, 'min_samples': 7} Score:  0.8157570071704705\n",
      "Parameter:  {'eps': 10.0, 'min_samples': 10} Score:  0.8107405850782263\n",
      "Parameter:  {'eps': 10.0, 'min_samples': 12} Score:  0.7826641175724478\n",
      "Parameter:  {'eps': 12.0, 'min_samples': 5} Score:  0.8082887021398691\n",
      "Parameter:  {'eps': 12.0, 'min_samples': 7} Score:  0.8006933163754029\n",
      "Parameter:  {'eps': 12.0, 'min_samples': 10} Score:  0.8177778536465214\n",
      "Parameter:  {'eps': 12.0, 'min_samples': 12} Score:  0.8155661587264617\n",
      "Parameter:  {'eps': 14.0, 'min_samples': 5} Score:  0.8111072866552332\n",
      "Parameter:  {'eps': 14.0, 'min_samples': 7} Score:  0.8121719747215577\n",
      "Parameter:  {'eps': 14.0, 'min_samples': 10} Score:  0.8029471072047811\n",
      "Parameter:  {'eps': 14.0, 'min_samples': 12} Score:  0.8178938395610874\n",
      "Parameter:  {'eps': 20.0, 'min_samples': 5} Score:  0.8490223286225532\n",
      "Parameter:  {'eps': 20.0, 'min_samples': 7} Score:  0.8490223286225532\n",
      "Parameter:  {'eps': 20.0, 'min_samples': 10} Score:  0.8192119040131286\n",
      "Parameter:  {'eps': 20.0, 'min_samples': 12} Score:  0.8156567891999053\n"
     ]
    }
   ],
   "source": [
    "# trainin models with diffrent parameters \n",
    "\n",
    "for g in parameter_grid:\n",
    "    model.set_params(**g)\n",
    "    model.fit(features)\n",
    "    \n",
    "    ss=metrics.silhouette_score(features, model.labels_)\n",
    "    print('Parameter: ', g, 'Score: ', ss)\n",
    "    if ss> best_score:\n",
    "        best_score = ss\n",
    "        best_grid = g"
   ]
  },
  {
   "cell_type": "code",
   "execution_count": 17,
   "metadata": {},
   "outputs": [
    {
     "data": {
      "text/plain": [
       "{'eps': 20.0, 'min_samples': 5}"
      ]
     },
     "execution_count": 17,
     "metadata": {},
     "output_type": "execute_result"
    }
   ],
   "source": [
    "# best possible values for the hyperparameters \n",
    "best_grid"
   ]
  },
  {
   "cell_type": "code",
   "execution_count": 19,
   "metadata": {},
   "outputs": [
    {
     "data": {
      "text/plain": [
       "DBSCAN(algorithm='auto', eps=20.0, leaf_size=30, metric='euclidean',\n",
       "       metric_params=None, min_samples=5, n_jobs=None, p=None)"
      ]
     },
     "execution_count": 19,
     "metadata": {},
     "output_type": "execute_result"
    }
   ],
   "source": [
    "# DBSCAN Clustering setting the best hyperparameters for the model parameters  \n",
    "model.set_params(**best_grid)\n",
    "model.fit(features)"
   ]
  },
  {
   "cell_type": "code",
   "execution_count": 20,
   "metadata": {},
   "outputs": [
    {
     "data": {
      "text/plain": [
       "2"
      ]
     },
     "execution_count": 20,
     "metadata": {},
     "output_type": "execute_result"
    }
   ],
   "source": [
    "# number of cluster \n",
    "n_clusters = len(set(model.labels_)) - (1 if -1 in model.labels_ else 0)\n",
    "n_clusters"
   ]
  },
  {
   "cell_type": "code",
   "execution_count": 21,
   "metadata": {},
   "outputs": [
    {
     "data": {
      "text/plain": [
       "0"
      ]
     },
     "execution_count": 21,
     "metadata": {},
     "output_type": "execute_result"
    }
   ],
   "source": [
    "# number of noisy points ( data points with label -1 )\n",
    "n_noise = list(model.labels_).count(-1)\n",
    "n_noise"
   ]
  },
  {
   "cell_type": "code",
   "execution_count": 22,
   "metadata": {},
   "outputs": [
    {
     "name": "stdout",
     "output_type": "stream",
     "text": [
      "number of clusters:  7\n",
      "number of noisy pints :  117\n"
     ]
    }
   ],
   "source": [
    "# test DBSCAN for another set of hyperparameters to check noisy points and nbr of clusters if changes  \n",
    "\n",
    "another_grid = {'eps' :5.0, 'min_samples': 5}\n",
    "\n",
    "model.set_params(**another_grid)\n",
    "model.fit(features)\n",
    "\n",
    "n_clusters = len(set(model.labels_)) - (1 if -1 in model.labels_ else 0)\n",
    "print('number of clusters: ', n_clusters )\n",
    "\n",
    "n_noise = list(model.labels_).count(-1)\n",
    "print('number of noisy pints : ', n_noise )"
   ]
  },
  {
   "cell_type": "markdown",
   "metadata": {},
   "source": [
    "### Mean-shift clustering  tuning \n",
    "###### only one hyperparameter to tune \" bandwidth\" of the kernel "
   ]
  },
  {
   "cell_type": "code",
   "execution_count": 25,
   "metadata": {},
   "outputs": [
    {
     "data": {
      "text/plain": [
       "33.960524729584314"
      ]
     },
     "execution_count": 25,
     "metadata": {},
     "output_type": "execute_result"
    }
   ],
   "source": [
    "from sklearn.cluster import estimate_bandwidth \n",
    "estimate_bandwidth(features)"
   ]
  },
  {
   "cell_type": "markdown",
   "metadata": {},
   "source": [
    "###### the estimate bandwidth turns  as the best value for bandwidth "
   ]
  },
  {
   "cell_type": "code",
   "execution_count": 28,
   "metadata": {},
   "outputs": [
    {
     "data": {
      "text/plain": [
       "0.8231396834167266"
      ]
     },
     "execution_count": 28,
     "metadata": {},
     "output_type": "execute_result"
    }
   ],
   "source": [
    "# instantiate Meanshift model \n",
    "from sklearn.metrics  import silhouette_score\n",
    "model = MeanShift(bandwidth =estimate_bandwidth(features)).fit(features)\n",
    "metrics.silhouette_score(features, model.labels_)\n"
   ]
  },
  {
   "cell_type": "code",
   "execution_count": null,
   "metadata": {},
   "outputs": [],
   "source": []
  }
 ],
 "metadata": {
  "kernelspec": {
   "display_name": "Python 3",
   "language": "python",
   "name": "python3"
  },
  "language_info": {
   "codemirror_mode": {
    "name": "ipython",
    "version": 3
   },
   "file_extension": ".py",
   "mimetype": "text/x-python",
   "name": "python",
   "nbconvert_exporter": "python",
   "pygments_lexer": "ipython3",
   "version": "3.8.1"
  }
 },
 "nbformat": 4,
 "nbformat_minor": 4
}
